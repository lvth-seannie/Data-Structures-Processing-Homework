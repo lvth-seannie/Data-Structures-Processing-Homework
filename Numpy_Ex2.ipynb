{
 "cells": [
  {
   "attachments": {},
   "cell_type": "markdown",
   "metadata": {},
   "source": [
    "1. Create a NumPy array with 10 random integers and print the array to the console."
   ]
  },
  {
   "cell_type": "code",
   "execution_count": 1,
   "metadata": {},
   "outputs": [
    {
     "name": "stdout",
     "output_type": "stream",
     "text": [
      "[5 8 9 5 0 0 1 7 6 9]\n"
     ]
    }
   ],
   "source": [
    "from numpy.random import seed\n",
    "from numpy.random import randint \n",
    "# Seed random number generator\n",
    "seed(1)\n",
    "arr = randint(0, 10, 10)\n",
    "print(arr)"
   ]
  },
  {
   "attachments": {},
   "cell_type": "markdown",
   "metadata": {},
   "source": [
    "2. Find the maximum value in a NumPy array with 50 random floats."
   ]
  },
  {
   "cell_type": "code",
   "execution_count": 3,
   "metadata": {},
   "outputs": [
    {
     "name": "stdout",
     "output_type": "stream",
     "text": [
      "[ 0.58829416  0.34685933  1.3670327   0.67371607 -1.2915627  -0.84824392\n",
      " -0.16659957  0.91719602  0.08025059  0.22823877 -0.8804768   0.27812885\n",
      " -0.07015677  0.62958793 -1.81342356  1.54744858  0.32505743 -0.21191292\n",
      " -1.54672407  1.04520063  1.01037548  0.07083664  0.71758983 -0.25070491\n",
      " -0.05152993  0.01312891  0.20223906  0.45495224 -0.39926817  0.18106742\n",
      "  0.80748795  0.81253519  0.21090203  0.42177915  0.58192518 -0.41020752\n",
      "  2.2968661   1.68849705  0.62581147 -1.61136381  0.06009774  0.46242079\n",
      "  0.68483649 -0.59546033  0.99905124 -0.30817074  0.36583834  1.60750704\n",
      " -0.23817737 -0.34082828]\n",
      "Max = 2.2968661024329244\n"
     ]
    }
   ],
   "source": [
    "import numpy as np\n",
    "arr = np.random.randn(50)\n",
    "max = np.max(arr)\n",
    "print(arr)\n",
    "print(\"Max =\", max)"
   ]
  },
  {
   "attachments": {},
   "cell_type": "markdown",
   "metadata": {},
   "source": [
    "3. Use NumPy to generate a 3x3 identity matrix and print it to the console."
   ]
  },
  {
   "cell_type": "code",
   "execution_count": null,
   "metadata": {},
   "outputs": [
    {
     "name": "stdout",
     "output_type": "stream",
     "text": [
      "3x3 Matrix\n",
      "[[1. 0. 0.]\n",
      " [0. 1. 0.]\n",
      " [0. 0. 1.]]\n"
     ]
    }
   ],
   "source": [
    "import numpy as np\n",
    "array_matrix = np.identity(3)\n",
    "print('3x3 Matrix')\n",
    "print(array_matrix)"
   ]
  },
  {
   "attachments": {},
   "cell_type": "markdown",
   "metadata": {},
   "source": [
    "4. Calculate the mean and standard deviation of a NumPy array with 100 random integers."
   ]
  },
  {
   "cell_type": "code",
   "execution_count": null,
   "metadata": {},
   "outputs": [
    {
     "name": "stdout",
     "output_type": "stream",
     "text": [
      "Mean = 51.31\n",
      "Standard Deviation = 29.124798711750785\n"
     ]
    }
   ],
   "source": [
    "import numpy as np\n",
    "array_100 = np.random.randint(0, 100, size = 100) \n",
    "mean = np.mean(array_100)\n",
    "standard_dev = np.std(array_100)\n",
    "print(\"Mean =\", mean)\n",
    "print(\"Standard Deviation =\", standard_dev)"
   ]
  },
  {
   "attachments": {},
   "cell_type": "markdown",
   "metadata": {},
   "source": [
    "5. Create a 2D NumPy array with 5 rows and 5 columns, and then extract the third row and the fourth column."
   ]
  },
  {
   "cell_type": "code",
   "execution_count": 7,
   "metadata": {},
   "outputs": [
    {
     "name": "stdout",
     "output_type": "stream",
     "text": [
      "The third row = [11 12 13 14 15]\n",
      "The fourth column = [ 8  4 14 25 50]\n"
     ]
    }
   ],
   "source": [
    "import numpy as np\n",
    "array = np.array([[2, 4, 6, 8, 10],\n",
    "                  [1, 2, 3, 4, 5,],\n",
    "                  [11, 12, 13, 14, 15],\n",
    "                  [10, 15, 20, 25, 30],\n",
    "                  [35, 40, 45, 50, 55]])\n",
    "\n",
    "# Extract the third row and the fourth column\n",
    "row = array[2,:]\n",
    "column = array[:, 3]\n",
    "\n",
    "# Print the third row and the fourth column\n",
    "print(\"The third row =\", row)\n",
    "print(\"The fourth column =\", column)"
   ]
  },
  {
   "attachments": {},
   "cell_type": "markdown",
   "metadata": {},
   "source": [
    "6. Use NumPy to create a 3x3 matrix with values ranging from 1 to 9, and then print the\n",
    "matrix to the console."
   ]
  },
  {
   "cell_type": "code",
   "execution_count": 8,
   "metadata": {},
   "outputs": [
    {
     "name": "stdout",
     "output_type": "stream",
     "text": [
      "[[1 2 3]\n",
      " [4 5 6]\n",
      " [7 8 9]]\n"
     ]
    }
   ],
   "source": [
    "import numpy as np\n",
    "# Create a 3x3 matrix with values ranging from 1 to 9\n",
    "array_matrix = np.array([[1,2,3], [4,5,6], [7,8,9]])\n",
    "print(array_matrix)"
   ]
  },
  {
   "attachments": {},
   "cell_type": "markdown",
   "metadata": {},
   "source": [
    "7. Calculate the dot product of two NumPy arrays of length 5."
   ]
  },
  {
   "cell_type": "code",
   "execution_count": 9,
   "metadata": {},
   "outputs": [
    {
     "name": "stdout",
     "output_type": "stream",
     "text": [
      "Dot Product = 140\n"
     ]
    }
   ],
   "source": [
    "import numpy as np\n",
    "# Create 2 arrays\n",
    "arr1 = np.array([1, 2, 3, 4, 5])\n",
    "arr2 = np.array([4, 6, 8, 10, 12])\n",
    "# Calculate the dot product of the two arrays above\n",
    "dot_product = np.dot(arr1, arr2)\n",
    "print(\"Dot Product =\", dot_product)"
   ]
  },
  {
   "attachments": {},
   "cell_type": "markdown",
   "metadata": {},
   "source": [
    "8. Reshape a 1D NumPy array with 10 elements into a 2D array with 2 rows and 5 columns."
   ]
  },
  {
   "cell_type": "code",
   "execution_count": 10,
   "metadata": {},
   "outputs": [
    {
     "name": "stdout",
     "output_type": "stream",
     "text": [
      "[[ 1  2  3  4  5]\n",
      " [ 6  7  8  9 10]]\n"
     ]
    }
   ],
   "source": [
    "import numpy as np\n",
    "# Create a 1D array with 10 elements\n",
    "arr = np.array([1, 2, 3, 4, 5, 6, 7, 8, 9, 10])\n",
    "# Reshape the array into a 2D array with 2 rows and 5 columns\n",
    "new_arr = np.reshape(arr, (2, 5))\n",
    "print(new_arr)"
   ]
  },
  {
   "attachments": {},
   "cell_type": "markdown",
   "metadata": {},
   "source": [
    "9. Use NumPy to calculate the eigenvalues and eigenvectors of a 3x3 matrix."
   ]
  },
  {
   "cell_type": "code",
   "execution_count": 11,
   "metadata": {},
   "outputs": [
    {
     "name": "stdout",
     "output_type": "stream",
     "text": [
      "Eigenvalues = [ 1.72195445e+01 -1.21954446e+00 -8.86293666e-17]\n",
      "Eigenvectors:\n",
      "[[ 0.21654473  0.74555156  0.40824829]\n",
      " [ 0.48649286  0.14749127 -0.81649658]\n",
      " [ 0.8464237  -0.64992246  0.40824829]]\n"
     ]
    }
   ],
   "source": [
    "import numpy as np\n",
    "matrix = np.array([[1, 2, 3],\n",
    "                   [4, 5, 6],\n",
    "                   [8, 9, 10]])\n",
    "# Calculate the eigenvalues, and eigenvectors\n",
    "eigenvalues, eigenvectors = np.linalg.eig(matrix)\n",
    "print(\"Eigenvalues =\", eigenvalues)\n",
    "print('Eigenvectors:')\n",
    "print(eigenvectors)"
   ]
  },
  {
   "attachments": {},
   "cell_type": "markdown",
   "metadata": {},
   "source": [
    "10. Create a new NumPy array that is the result of concatenating two existing arrays with different shapes."
   ]
  },
  {
   "cell_type": "code",
   "execution_count": 12,
   "metadata": {},
   "outputs": [
    {
     "name": "stdout",
     "output_type": "stream",
     "text": [
      "[[ 1  2  3  4  5]\n",
      " [ 2  4  6  8 10]\n",
      " [ 1  2  3  4  5]]\n"
     ]
    }
   ],
   "source": [
    "import numpy as np\n",
    "# Create 2 NumPy arrays\n",
    "arr1 = np.array([[1, 2, 3, 4, 5],\n",
    "                 [2, 4, 6, 8, 10]])\n",
    "arr2 = np.array([1, 2, 3, 4, 5])\n",
    "# Concatenate the array\n",
    "new_arr = np.concatenate((arr1, np.array([arr2])), axis = 0)\n",
    "print(new_arr)"
   ]
  }
 ],
 "metadata": {
  "kernelspec": {
   "display_name": "Seannie",
   "language": "python",
   "name": "python3"
  },
  "language_info": {
   "codemirror_mode": {
    "name": "ipython",
    "version": 3
   },
   "file_extension": ".py",
   "mimetype": "text/x-python",
   "name": "python",
   "nbconvert_exporter": "python",
   "pygments_lexer": "ipython3",
   "version": "3.9.13"
  },
  "orig_nbformat": 4,
  "vscode": {
   "interpreter": {
    "hash": "f70cac5e3ff7704f15e3e5f266afca724fb0a4e37004a9be5460a6500584849c"
   }
  }
 },
 "nbformat": 4,
 "nbformat_minor": 2
}
