{
 "cells": [
  {
   "cell_type": "markdown",
   "metadata": {},
   "source": [
    "# Data Structures & Processing - CH-701-A\n",
    "\n",
    "### Homework Week 1 - Batch 1\n",
    "\n",
    "Name: Vo Thien Hai Le - 30006085\n",
    "\n",
    "v.le@constructor.university "
   ]
  },
  {
   "cell_type": "markdown",
   "metadata": {},
   "source": [
    "#### Batch 1.1. String concatenation.\n",
    "\n",
    "Write a program that takes two strings as input and returns the concatenation of the two strings."
   ]
  },
  {
   "cell_type": "code",
   "execution_count": 3,
   "metadata": {
    "tags": []
   },
   "outputs": [
    {
     "name": "stdin",
     "output_type": "stream",
     "text": [
      "<class 'str'> Seannie &\n",
      "<class 'str'> Dustin\n"
     ]
    },
    {
     "name": "stdout",
     "output_type": "stream",
     "text": [
      "Seannie & Dustin\n"
     ]
    }
   ],
   "source": [
    "a = input(str)\n",
    "b = input(str)\n",
    "print(a + \" \" + b)"
   ]
  },
  {
   "cell_type": "markdown",
   "metadata": {},
   "source": [
    "#### Batch 1.2. Maximum of three numbers.\n",
    "\n",
    "Write a program that takes three numbers as input and returns the maximum of the three."
   ]
  },
  {
   "cell_type": "code",
   "execution_count": 4,
   "metadata": {
    "tags": []
   },
   "outputs": [
    {
     "name": "stdin",
     "output_type": "stream",
     "text": [
      "<class 'int'> 3\n",
      "<class 'int'> 4\n",
      "<class 'int'> 5\n"
     ]
    },
    {
     "name": "stdout",
     "output_type": "stream",
     "text": [
      "z\n"
     ]
    }
   ],
   "source": [
    "list_of_numbers = ['x', 'y', 'z']\n",
    "x = input(int)\n",
    "y = input(int)\n",
    "z = input(int)\n",
    "print(max(list_of_numbers))"
   ]
  },
  {
   "cell_type": "markdown",
   "metadata": {},
   "source": [
    "#### Batch 1.3. FizzBuzz. \n",
    "\n",
    "Write a program that prints the numbers from 1 to 100, but for multiples of three, it should print \"Fizz\" instead of the number, and for multiples of five, it should print \"Buzz\". For numbers that are multiples of both three and five, it should print \"FizzBuzz\"."
   ]
  },
  {
   "cell_type": "code",
   "execution_count": 5,
   "metadata": {
    "tags": []
   },
   "outputs": [
    {
     "name": "stdout",
     "output_type": "stream",
     "text": [
      "1\n",
      "2\n",
      "Fizz\n",
      "FizzBuzz\n",
      "3\n",
      "4\n",
      "Buzz\n",
      "5\n",
      "Fizz\n",
      "FizzBuzz\n",
      "6\n",
      "7\n",
      "8\n",
      "Fizz\n",
      "FizzBuzz\n",
      "9\n",
      "Buzz\n",
      "10\n",
      "11\n",
      "Fizz\n",
      "FizzBuzz\n",
      "12\n",
      "13\n",
      "14\n",
      "Fizz\n",
      "Buzz\n",
      "FizzBuzz\n",
      "15\n",
      "16\n",
      "17\n",
      "Fizz\n",
      "FizzBuzz\n",
      "18\n",
      "19\n",
      "Buzz\n",
      "20\n",
      "Fizz\n",
      "FizzBuzz\n",
      "21\n",
      "22\n",
      "23\n",
      "Fizz\n",
      "FizzBuzz\n",
      "24\n",
      "Buzz\n",
      "25\n",
      "26\n",
      "Fizz\n",
      "FizzBuzz\n",
      "27\n",
      "28\n",
      "29\n",
      "Fizz\n",
      "Buzz\n",
      "FizzBuzz\n",
      "30\n",
      "31\n",
      "32\n",
      "Fizz\n",
      "FizzBuzz\n",
      "33\n",
      "34\n",
      "Buzz\n",
      "35\n",
      "Fizz\n",
      "FizzBuzz\n",
      "36\n",
      "37\n",
      "38\n",
      "Fizz\n",
      "FizzBuzz\n",
      "39\n",
      "Buzz\n",
      "40\n",
      "41\n",
      "Fizz\n",
      "FizzBuzz\n",
      "42\n",
      "43\n",
      "44\n",
      "Fizz\n",
      "Buzz\n",
      "FizzBuzz\n",
      "45\n",
      "46\n",
      "47\n",
      "Fizz\n",
      "FizzBuzz\n",
      "48\n",
      "49\n",
      "Buzz\n",
      "50\n",
      "Fizz\n",
      "FizzBuzz\n",
      "51\n",
      "52\n",
      "53\n",
      "Fizz\n",
      "FizzBuzz\n",
      "54\n",
      "Buzz\n",
      "55\n",
      "56\n",
      "Fizz\n",
      "FizzBuzz\n",
      "57\n",
      "58\n",
      "59\n",
      "Fizz\n",
      "Buzz\n",
      "FizzBuzz\n",
      "60\n",
      "61\n",
      "62\n",
      "Fizz\n",
      "FizzBuzz\n",
      "63\n",
      "64\n",
      "Buzz\n",
      "65\n",
      "Fizz\n",
      "FizzBuzz\n",
      "66\n",
      "67\n",
      "68\n",
      "Fizz\n",
      "FizzBuzz\n",
      "69\n",
      "Buzz\n",
      "70\n",
      "71\n",
      "Fizz\n",
      "FizzBuzz\n",
      "72\n",
      "73\n",
      "74\n",
      "Fizz\n",
      "Buzz\n",
      "FizzBuzz\n",
      "75\n",
      "76\n",
      "77\n",
      "Fizz\n",
      "FizzBuzz\n",
      "78\n",
      "79\n",
      "Buzz\n",
      "80\n",
      "Fizz\n",
      "FizzBuzz\n",
      "81\n",
      "82\n",
      "83\n",
      "Fizz\n",
      "FizzBuzz\n",
      "84\n",
      "Buzz\n",
      "85\n",
      "86\n",
      "Fizz\n",
      "FizzBuzz\n",
      "87\n",
      "88\n",
      "89\n",
      "Fizz\n",
      "Buzz\n",
      "FizzBuzz\n",
      "90\n",
      "91\n",
      "92\n",
      "Fizz\n",
      "FizzBuzz\n",
      "93\n",
      "94\n",
      "Buzz\n",
      "95\n",
      "Fizz\n",
      "FizzBuzz\n",
      "96\n",
      "97\n",
      "98\n",
      "Fizz\n",
      "FizzBuzz\n",
      "99\n"
     ]
    }
   ],
   "source": [
    "for x in range(1, 100):\n",
    "    if x % 3 == 0: print(\"Fizz\") # mutiples of 3\n",
    "    if x % 5 == 0: print(\"Buzz\") # mutiples of 5\n",
    "    if x % 3 == 0 & x % 5 == 0: print(\"FizzBuzz\") # mutiples of 3 and 5\n",
    "    print(x)"
   ]
  },
  {
   "cell_type": "markdown",
   "metadata": {},
   "source": [
    "#### Batch 1.4. Sum of digits. \n",
    "\n",
    "Write a program that takes a positive integer as input and returns the sum of its digits."
   ]
  },
  {
   "cell_type": "code",
   "execution_count": 7,
   "metadata": {
    "tags": []
   },
   "outputs": [
    {
     "name": "stdin",
     "output_type": "stream",
     "text": [
      "Enter a number:  55\n"
     ]
    },
    {
     "name": "stdout",
     "output_type": "stream",
     "text": [
      "Sum of digits is: 10\n"
     ]
    }
   ],
   "source": [
    "n = int(input('Enter a number: '))\n",
    "sum = 0\n",
    "while (n > 0):\n",
    "    dig = n % 10\n",
    "    sum += dig\n",
    "    n = n // 10\n",
    "print(\"Sum of digits is:\", sum)"
   ]
  },
  {
   "cell_type": "markdown",
   "metadata": {},
   "source": [
    "#### Batch 1.5. Print stars. \n",
    "\n",
    "Write a program that takes a positive integer as input and prints that many asterisks (*) on a single line."
   ]
  },
  {
   "cell_type": "code",
   "execution_count": 8,
   "metadata": {
    "tags": []
   },
   "outputs": [
    {
     "name": "stdin",
     "output_type": "stream",
     "text": [
      "<class 'int'> 6\n"
     ]
    },
    {
     "name": "stdout",
     "output_type": "stream",
     "text": [
      "******\n"
     ]
    }
   ],
   "source": [
    "s = input(int)\n",
    "if s != 0:\n",
    "    k = int(s)\n",
    "    s = '*' * k\n",
    "print(s)"
   ]
  },
  {
   "cell_type": "markdown",
   "metadata": {},
   "source": [
    "#### Batch 1.6. Reverse a string. \n",
    "\n",
    "Write a program that reverses a given string."
   ]
  },
  {
   "cell_type": "code",
   "execution_count": 9,
   "metadata": {
    "tags": []
   },
   "outputs": [
    {
     "name": "stdin",
     "output_type": "stream",
     "text": [
      "<class 'str'> Seannie loves Dustin so much!\n"
     ]
    },
    {
     "name": "stdout",
     "output_type": "stream",
     "text": [
      "!hcum os nitsuD sevol einnaeS\n"
     ]
    }
   ],
   "source": [
    "string = input(str)\n",
    "strrv = string[::-1]\n",
    "print(strrv)"
   ]
  },
  {
   "cell_type": "markdown",
   "metadata": {},
   "source": [
    "#### Batch 1.7. Maximum and minimum of a list. \n",
    "\n",
    "Write a program that takes a list of numbers as input and returns the maximum and minimum of the list."
   ]
  },
  {
   "cell_type": "code",
   "execution_count": 10,
   "metadata": {
    "tags": []
   },
   "outputs": [
    {
     "name": "stdout",
     "output_type": "stream",
     "text": [
      "The Maximum of the List = 2038084\n",
      "The Minimum of the List = 3.4\n"
     ]
    }
   ],
   "source": [
    "l = [3.4, 5.5, 99, 55, 10675, 264.578, 4567.67, 2038084]\n",
    "maximum = max(l)\n",
    "minimum = min(l)\n",
    "print(\"The Maximum of the List =\", maximum)\n",
    "print(\"The Minimum of the List =\", minimum)"
   ]
  },
  {
   "cell_type": "markdown",
   "metadata": {},
   "source": [
    "#### Batch 1.8. Guessing game. \n",
    "\n",
    "Write a program that generates a random number between 1 and 100, and allows the user to guess the number. The program should give feedback on each guess (e.g. too high, too low, correct), and keep track of the number of guesses."
   ]
  },
  {
   "cell_type": "code",
   "execution_count": 12,
   "metadata": {
    "tags": []
   },
   "outputs": [
    {
     "name": "stdin",
     "output_type": "stream",
     "text": [
      "Username:  Seannie\n"
     ]
    },
    {
     "name": "stdout",
     "output_type": "stream",
     "text": [
      "Are you ready to start?\n"
     ]
    },
    {
     "name": "stdin",
     "output_type": "stream",
     "text": [
      "Type 'Yes' or 'No'!\n",
      " Yes\n"
     ]
    },
    {
     "name": "stdout",
     "output_type": "stream",
     "text": [
      "Guess the number generated randomly from 1 to 100!\n"
     ]
    },
    {
     "name": "stdin",
     "output_type": "stream",
     "text": [
      "Enter your answer:  40\n"
     ]
    },
    {
     "name": "stdout",
     "output_type": "stream",
     "text": [
      "It is lower than the correct answer, please try again!\n"
     ]
    },
    {
     "name": "stdin",
     "output_type": "stream",
     "text": [
      "Enter your answer:  70\n"
     ]
    },
    {
     "name": "stdout",
     "output_type": "stream",
     "text": [
      "It is higher than the correct answer, please try again!\n"
     ]
    },
    {
     "name": "stdin",
     "output_type": "stream",
     "text": [
      "Enter your answer:  60\n"
     ]
    },
    {
     "name": "stdout",
     "output_type": "stream",
     "text": [
      "It is higher than the correct answer, please try again!\n"
     ]
    },
    {
     "name": "stdin",
     "output_type": "stream",
     "text": [
      "Enter your answer:  45\n"
     ]
    },
    {
     "name": "stdout",
     "output_type": "stream",
     "text": [
      "It is lower than the correct answer, please try again!\n"
     ]
    },
    {
     "name": "stdin",
     "output_type": "stream",
     "text": [
      "Enter your answer:  55\n"
     ]
    },
    {
     "name": "stdout",
     "output_type": "stream",
     "text": [
      "It is lower than the correct answer, please try again!\n"
     ]
    },
    {
     "name": "stdin",
     "output_type": "stream",
     "text": [
      "Enter your answer:  58\n"
     ]
    },
    {
     "name": "stdout",
     "output_type": "stream",
     "text": [
      "It is higher than the correct answer, please try again!\n"
     ]
    },
    {
     "name": "stdin",
     "output_type": "stream",
     "text": [
      "Enter your answer:  56\n"
     ]
    },
    {
     "name": "stdout",
     "output_type": "stream",
     "text": [
      "Congratulations! Your answer is completely correct in 7 attempts\n",
      "\n"
     ]
    },
    {
     "name": "stdin",
     "output_type": "stream",
     "text": [
      "Do you want to play again? Type Yes or Exit!\n",
      " Exit\n"
     ]
    }
   ],
   "source": [
    "import random\n",
    "\n",
    "name = input(\"Username: \")\n",
    "print(\"Are you ready to start?\")\n",
    "answer = input(\"Type 'Yes' or 'No'!\\n\")\n",
    "if answer == 'No':\n",
    "    exit()\n",
    "else:\n",
    "    def main():\n",
    "        # Generate the random number\n",
    "        random_number = random.randint(1, 100)\n",
    "        print(\"Guess the number generated randomly from 1 to 100!\")\n",
    "        attempts = 0\n",
    "        # User guessed correctly\n",
    "        while True:\n",
    "            user_guess = int(input(\"Enter your answer: \"))\n",
    "            if user_guess == random_number:\n",
    "                print('Congratulations! Your answer is completely correct in', (attempts + 1), 'attempts\\n')\n",
    "                # Asking for playing again\n",
    "                choice = input(\"Do you want to play again? Type Yes or Exit!\\n\")\n",
    "                if choice == 'Yes':\n",
    "                    # generate randomly another number\n",
    "                    random_number = random.randint(1, 100)\n",
    "                    attempts = 0\n",
    "                    continue\n",
    "                else:\n",
    "                    break\n",
    "            # User guessed incorrectly and check if it is lower or higher    \n",
    "            elif user_guess < random_number:\n",
    "                print(\"It is lower than the correct answer, please try again!\")\n",
    "            else:\n",
    "                print(\"It is higher than the correct answer, please try again!\")\n",
    "            attempts += 1\n",
    "    main()\n",
    "    "
   ]
  },
  {
   "cell_type": "markdown",
   "metadata": {},
   "source": [
    "#### Batch 1.9. Average of numbers.\n",
    "\n",
    "Write a program that calculates the average of a list of numbers entered by the user."
   ]
  },
  {
   "cell_type": "code",
   "execution_count": 15,
   "metadata": {
    "tags": []
   },
   "outputs": [
    {
     "name": "stdin",
     "output_type": "stream",
     "text": [
      "Enter the number of elements in the list =  4\n",
      "Enter elements 1: \n",
      " 5\n",
      "Enter elements 2: \n",
      " 6\n",
      "Enter elements 3: \n",
      " 8\n",
      "Enter elements 4: \n",
      " 10\n"
     ]
    },
    {
     "name": "stdout",
     "output_type": "stream",
     "text": [
      "List = [5, 6, 8, 10]\n",
      "Average = 7.25\n"
     ]
    }
   ],
   "source": [
    "# Using statistics.mean() to calculate the average of the list\n",
    "from statistics import mean \n",
    "list = []\n",
    "# Asking for the number of elements in the list \n",
    "n = int(input(\"Enter the number of elements in the list = \"))\n",
    "# Loop through and take input for each element\n",
    "for i in range(n):\n",
    "    element = int(input(\"Enter elements {}: \\n\".format(i + 1)))\n",
    "    list.append(element)\n",
    "average = mean(list)\n",
    "print(\"List =\", list)\n",
    "print(\"Average =\", average)"
   ]
  },
  {
   "cell_type": "markdown",
   "metadata": {},
   "source": [
    "#### Batch 1.10. Median of a list.\n",
    "\n",
    "Write a program that takes a list of numbers as input and returns the median of the list."
   ]
  },
  {
   "cell_type": "code",
   "execution_count": 16,
   "metadata": {
    "tags": []
   },
   "outputs": [
    {
     "name": "stdin",
     "output_type": "stream",
     "text": [
      "Enter the number of elements =  3\n",
      "Enter elements 1:\n",
      " 45\n",
      "Enter elements 2:\n",
      " 20\n",
      "Enter elements 3:\n",
      " 36\n"
     ]
    },
    {
     "name": "stdout",
     "output_type": "stream",
     "text": [
      "List = [45, 20, 36]\n",
      "Median = 36\n"
     ]
    }
   ],
   "source": [
    "from statistics import median\n",
    "list = []\n",
    "# Find the number of elements in the list\n",
    "number_of_elements = int(input(\"Enter the number of elements = \"))\n",
    "# Loop through and add elements into the list\n",
    "for i in range(number_of_elements):\n",
    "    element = int(input(\"Enter elements {}:\\n\".format(i+1)))\n",
    "    list.append(element)\n",
    "print(\"List =\", list)\n",
    "# Find the median of the list\n",
    "Median = median(list)\n",
    "print(\"Median =\", Median)"
   ]
  }
 ],
 "metadata": {
  "kernelspec": {
   "display_name": "Python 3 (ipykernel)",
   "language": "python",
   "name": "python3"
  },
  "language_info": {
   "codemirror_mode": {
    "name": "ipython",
    "version": 3
   },
   "file_extension": ".py",
   "mimetype": "text/x-python",
   "name": "python",
   "nbconvert_exporter": "python",
   "pygments_lexer": "ipython3",
   "version": "3.11.2"
  }
 },
 "nbformat": 4,
 "nbformat_minor": 4
}
