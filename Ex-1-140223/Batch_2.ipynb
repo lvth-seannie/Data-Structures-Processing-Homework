{
 "cells": [
  {
   "cell_type": "markdown",
   "metadata": {},
   "source": [
    "# Data Structures & Processing - CH-701-A\n",
    "\n",
    "### Homework Week 1 - Batch 2\n",
    "\n",
    "Name: Vo Thien Hai Le - 30006085\n",
    "\n",
    "v.le@constructor.university "
   ]
  },
  {
   "cell_type": "markdown",
   "metadata": {},
   "source": [
    "#### Batch 2.1. Factorial.\n",
    "\n",
    "Write a function that takes a positive integer as input and returns its factorial."
   ]
  },
  {
   "cell_type": "code",
   "execution_count": 2,
   "metadata": {},
   "outputs": [
    {
     "name": "stdin",
     "output_type": "stream",
     "text": [
      "Enter a positive integer:  5\n"
     ]
    },
    {
     "name": "stdout",
     "output_type": "stream",
     "text": [
      "Result = 120\n"
     ]
    }
   ],
   "source": [
    "import math\n",
    "def main():\n",
    "    n = int(input(\"Enter a positive integer: \"))\n",
    "    result = math.factorial(n) # return its factorial\n",
    "    print(\"Result =\", result)\n",
    "main()"
   ]
  },
  {
   "cell_type": "markdown",
   "metadata": {},
   "source": [
    "#### Batch 2.2. Fibonacci sequence.\n",
    "\n",
    "Write a function that takes a positive integer as input and returns the first n numbers of the Fibonacci sequence."
   ]
  },
  {
   "cell_type": "code",
   "execution_count": 5,
   "metadata": {},
   "outputs": [
    {
     "name": "stdin",
     "output_type": "stream",
     "text": [
      "Enter a positive integer =  8\n"
     ]
    },
    {
     "name": "stdout",
     "output_type": "stream",
     "text": [
      "011235813"
     ]
    }
   ],
   "source": [
    "def fibonacci(n):\n",
    "    a, b = 0, 1 # initialize the first 2 numbers of the sequence\n",
    "    if n <= 0: # check if the input is <= 0\n",
    "        n = int(input(\"Please enter a positive integer = \"))\n",
    "    \n",
    "    # Print the first 2 numbers\n",
    "    print(a, end = '')\n",
    "    print(b, end = '')\n",
    "    \n",
    "    # Loop through and calculate the next numbers in the sequence\n",
    "    for i in range(2, n):\n",
    "        c = a + b\n",
    "        print(c, end = '')\n",
    "        a = b\n",
    "        b = c\n",
    "        \n",
    "# Call the function\n",
    "n = int(input(\"Enter a positive integer = \"))\n",
    "fibonacci(n)"
   ]
  },
  {
   "cell_type": "markdown",
   "metadata": {},
   "source": [
    "#### Batch 2.3. Palindrome.\n",
    "\n",
    "Write a function that takes a string as input and returns True if the string is a palindrome, and False otherwise."
   ]
  },
  {
   "cell_type": "code",
   "execution_count": 6,
   "metadata": {},
   "outputs": [
    {
     "name": "stdin",
     "output_type": "stream",
     "text": [
      "Enter a string:  Seannie loves Dustin\n"
     ]
    },
    {
     "name": "stdout",
     "output_type": "stream",
     "text": [
      "False\n"
     ]
    }
   ],
   "source": [
    "def palindrome(string):\n",
    "    # compares the original string with the reverse string\n",
    "    if (string == string[::-1]):\n",
    "        return True # returns true if it is equal to each other\n",
    "    else:\n",
    "        return False # returns false otherwise\n",
    "    \n",
    "string = str(input(\"Enter a string: \"))\n",
    "print(palindrome(string))"
   ]
  },
  {
   "cell_type": "markdown",
   "metadata": {},
   "source": [
    "#### Batch 2.4. Least common multiple.\n",
    "\n",
    "Write a function that takes two positive integers as input and returns their least common multiple."
   ]
  },
  {
   "cell_type": "code",
   "execution_count": 7,
   "metadata": {},
   "outputs": [
    {
     "name": "stdin",
     "output_type": "stream",
     "text": [
      "Enter the first positive integer:  10\n",
      "Enter the second positive integer:  16\n"
     ]
    },
    {
     "name": "stdout",
     "output_type": "stream",
     "text": [
      "The least common multiple of the given two positive integers is: 80\n",
      "The least common multiple of the given two positive integers is: 160\n"
     ]
    }
   ],
   "source": [
    "def main():\n",
    "    # take 2 positive integers\n",
    "    a = int(input(\"Enter the first positive integer: \"))\n",
    "    b = int(input(\"Enter the second positive integer: \"))\n",
    "    c = a * b\n",
    "    # find the least common multiple by looping through\n",
    "    for i in range(1, c + 1):\n",
    "        if (i % a == 0 and i % b == 0):\n",
    "            print(\"The least common multiple of the given two positive integers is:\", i)\n",
    "main()"
   ]
  },
  {
   "cell_type": "markdown",
   "metadata": {},
   "source": [
    "#### Batch 2.5. Power of a number. \n",
    "\n",
    "Write a function that takes two numbers, a base and an exponent, as input and returns the power of the base raised to the exponent."
   ]
  },
  {
   "cell_type": "code",
   "execution_count": 8,
   "metadata": {},
   "outputs": [
    {
     "name": "stdin",
     "output_type": "stream",
     "text": [
      "Enter a base =  12\n",
      "Enter an exponent =  3\n"
     ]
    },
    {
     "name": "stdout",
     "output_type": "stream",
     "text": [
      "The power of the base raised to the exponent is: 1728\n"
     ]
    }
   ],
   "source": [
    "base = int(input(\"Enter a base = \"))\n",
    "exponent = int(input(\"Enter an exponent = \"))\n",
    "result = pow(base, exponent)\n",
    "print(\"The power of the base raised to the exponent is:\", result)"
   ]
  },
  {
   "cell_type": "markdown",
   "metadata": {},
   "source": [
    "#### Batch 2.6. GCD. \n",
    "\n",
    "Write a function that takes two positive integers as input and returns their greatest common divisor."
   ]
  },
  {
   "cell_type": "code",
   "execution_count": 9,
   "metadata": {},
   "outputs": [
    {
     "name": "stdin",
     "output_type": "stream",
     "text": [
      "Enter the first positive integer =  12\n",
      "Enter the second positive integer =  14\n"
     ]
    },
    {
     "name": "stdout",
     "output_type": "stream",
     "text": [
      "The GCD of the two positive integer = 2\n"
     ]
    }
   ],
   "source": [
    "import math\n",
    "# take 2 positive integers as input\n",
    "a = int(input(\"Enter the first positive integer = \"))\n",
    "b = int(input(\"Enter the second positive integer = \"))\n",
    "print(\"The GCD of the two positive integer = \", end=\"\")\n",
    "print(math.gcd(a, b))"
   ]
  },
  {
   "cell_type": "markdown",
   "metadata": {},
   "source": [
    "#### Batch 2.7. Largest string.\n",
    "\n",
    "Write a function that takes a list of strings as input and returns the largest string in the list."
   ]
  },
  {
   "cell_type": "code",
   "execution_count": 12,
   "metadata": {},
   "outputs": [
    {
     "name": "stdin",
     "output_type": "stream",
     "text": [
      "Enter the number of elements in the list of strings:  3\n",
      "Enter Element 1:\n",
      " Seannie\n",
      "Enter Element 2:\n",
      " Love\n",
      "Enter Element 3:\n",
      " Dustin\n"
     ]
    },
    {
     "name": "stdout",
     "output_type": "stream",
     "text": [
      "List = ['Seannie', 'Love', 'Dustin']\n",
      "The Largest String is 'Seannie'\n"
     ]
    }
   ],
   "source": [
    "list = []\n",
    "number_of_elements = int(input(\"Enter the number of elements in the list of strings: \"))\n",
    "for i in range(number_of_elements):\n",
    "    element = str(input(\"Enter Element {}:\\n\".format(i+1)))\n",
    "    list.append(element)\n",
    "print(\"List =\", list)\n",
    "# Find the largest string\n",
    "def largeststring(list):\n",
    "    count = 0\n",
    "    for i in list: # Loop through the list\n",
    "        if len(i) > count: # Check for the longest sring\n",
    "            count = len(i)\n",
    "            word = i\n",
    "    return (\"The Largest String is \" + \"'\" + word + \"'\")\n",
    "print(largeststring(list))"
   ]
  },
  {
   "cell_type": "markdown",
   "metadata": {},
   "source": [
    "#### Batch 2.8. Reverse string. \n",
    "\n",
    "Write a function that takes a string as input and returns the string in reverse order."
   ]
  },
  {
   "cell_type": "code",
   "execution_count": 13,
   "metadata": {},
   "outputs": [
    {
     "name": "stdin",
     "output_type": "stream",
     "text": [
      "Enter a string:  Seannie loves Dustin\n"
     ]
    },
    {
     "name": "stdout",
     "output_type": "stream",
     "text": [
      "The reverse string is nitsuD sevol einnaeS\n"
     ]
    }
   ],
   "source": [
    "def reversestring(string):\n",
    "    rvstr = string[::-1]  # reverse string\n",
    "    return (\"The reverse string is \" + rvstr)\n",
    "\n",
    "string = str(input(\"Enter a string: \"))\n",
    "print(reversestring(string))"
   ]
  },
  {
   "cell_type": "markdown",
   "metadata": {},
   "source": [
    "#### Batch 2.9. Upper case. \n",
    "\n",
    "Write a function that takes a string as input and returns the string in all upper case."
   ]
  },
  {
   "cell_type": "code",
   "execution_count": 14,
   "metadata": {},
   "outputs": [
    {
     "name": "stdin",
     "output_type": "stream",
     "text": [
      "Enter a string:  dustin is the best valorant player in the world\n"
     ]
    },
    {
     "name": "stdout",
     "output_type": "stream",
     "text": [
      "The result is DUSTIN IS THE BEST VALORANT PLAYER IN THE WORLD\n"
     ]
    }
   ],
   "source": [
    "def uppercase(string):\n",
    "    result = string.upper() # Converts a string into upper case\n",
    "    return (\"The result is \" + result)\n",
    "# Take input\n",
    "string = str(input(\"Enter a string: \"))\n",
    "print(uppercase(string))"
   ]
  },
  {
   "cell_type": "markdown",
   "metadata": {},
   "source": [
    "#### Batch 2.10. Lower case. \n",
    "\n",
    "Write a function that takes a string as input and returns the string in all lower case."
   ]
  },
  {
   "cell_type": "code",
   "execution_count": 15,
   "metadata": {},
   "outputs": [
    {
     "name": "stdin",
     "output_type": "stream",
     "text": [
      "Enter a string:  DUSTIN is my Love\n"
     ]
    },
    {
     "name": "stdout",
     "output_type": "stream",
     "text": [
      "The string in lower case is dustin is my love\n"
     ]
    }
   ],
   "source": [
    "def lowercase(string):\n",
    "    lwc = string.lower()\n",
    "    return (\"The string in lower case is \" + lwc)\n",
    "\n",
    "# Take input\n",
    "string = str(input(\"Enter a string: \"))\n",
    "print(lowercase(string))"
   ]
  }
 ],
 "metadata": {
  "kernelspec": {
   "display_name": "Python 3 (ipykernel)",
   "language": "python",
   "name": "python3"
  },
  "language_info": {
   "codemirror_mode": {
    "name": "ipython",
    "version": 3
   },
   "file_extension": ".py",
   "mimetype": "text/x-python",
   "name": "python",
   "nbconvert_exporter": "python",
   "pygments_lexer": "ipython3",
   "version": "3.11.2"
  }
 },
 "nbformat": 4,
 "nbformat_minor": 4
}
