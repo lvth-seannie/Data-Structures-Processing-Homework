{
 "cells": [
  {
   "cell_type": "markdown",
   "metadata": {},
   "source": [
    "# Data Structures & Processing - CH-701-A\n",
    "\n",
    "### Homework Week 1 - Batch 3 \n",
    "\n",
    "Name: Vo Thien Hai Le - 30006085\n",
    "\n",
    "v.le@constructor.university "
   ]
  },
  {
   "cell_type": "markdown",
   "metadata": {},
   "source": [
    "#### Batch 3.1. Convert temperature.\n",
    "\n",
    "Write a program that converts Celsius to Fahrenheit and viceversa."
   ]
  },
  {
   "cell_type": "code",
   "execution_count": 1,
   "metadata": {},
   "outputs": [
    {
     "name": "stdin",
     "output_type": "stream",
     "text": [
      "Temperature in Celsius =  23\n"
     ]
    },
    {
     "name": "stdout",
     "output_type": "stream",
     "text": [
      "The 23.00 degree Celsius is equal to 73.40 Fahrenheit!\n",
      "--------OR--------\n"
     ]
    },
    {
     "name": "stdin",
     "output_type": "stream",
     "text": [
      "Temperature in Fahrenheit =  54\n"
     ]
    },
    {
     "name": "stdout",
     "output_type": "stream",
     "text": [
      "The 54.00 degree Fahrenheit is equal to 12.22 Celsius!\n"
     ]
    }
   ],
   "source": [
    "cel_1 = float(input(\"Temperature in Celsius = \"))\n",
    "fah_1 = (cel_1 * 1.8) + 32\n",
    "print(\"The %.2f degree Celsius is equal to %.2f Fahrenheit!\" %(cel_1, fah_1))\n",
    "\n",
    "print(\"--------OR--------\")\n",
    "\n",
    "fah_2 = float(input(\"Temperature in Fahrenheit = \"))\n",
    "cel_2 = (fah_2 - 32) * 5/9\n",
    "print(\"The %.2f degree Fahrenheit is equal to %.2f Celsius!\" %(fah_2, cel_2))"
   ]
  },
  {
   "cell_type": "markdown",
   "metadata": {},
   "source": [
    "#### Batch 3.2. Grade calculator.\n",
    "\n",
    "Write a program that calculates the final grade of a student based ontheir scores for several assignments and exams."
   ]
  },
  {
   "cell_type": "code",
   "execution_count": 2,
   "metadata": {},
   "outputs": [
    {
     "name": "stdout",
     "output_type": "stream",
     "text": [
      "Vo Thien Hai Le\n",
      "GPA of Vo Thien Hai Le is: 96.63\n",
      "It is equivalent to A\n",
      "--------------------------------------------------------\n",
      "\n",
      "Dustin Timm\n",
      "GPA of Dustin Timm is: 92.85\n",
      "It is equivalent to A\n",
      "--------------------------------------------------------\n",
      "\n",
      "Yvonne Timm\n",
      "GPA of Yvonne Timm is: 94.44\n",
      "It is equivalent to A\n",
      "--------------------------------------------------------\n",
      "\n",
      "Ngoc Khai Le\n",
      "GPA of Ngoc Khai Le is: 94.31\n",
      "It is equivalent to A\n",
      "--------------------------------------------------------\n",
      "\n"
     ]
    }
   ],
   "source": [
    "\"\"\"\n",
    "# Criteria\n",
    "30% - Assignments\n",
    "70% - Final Exam\n",
    "\n",
    "# Grade Classification\n",
    "1. score >= 80% : \"A\"\n",
    "2. score >= 70% : \"B\"\n",
    "3. score >= 550% : \"C\"\n",
    "4. score >= 45% : \"D\"\n",
    "\"\"\"\n",
    "\n",
    "# Creating a dictionary which includes the student names,\n",
    "# assignment result, exam results\n",
    "\n",
    "# 1. Seannie's Dictionary\n",
    "seannie = {\"name\" : \"Vo Thien Hai Le\",\n",
    "           \"assignment\" : [90, 93, 95, 100], \"exam\" : [97.55]}\n",
    "\n",
    "# 2. Dustin's Dictionary\n",
    "dustin = {\"name\" : \"Dustin Timm\",\n",
    "           \"assignment\" : [80, 96, 75, 95], \"exam\" : [95.57]}\n",
    "\n",
    "# 3. Yvonne's Dictionary\n",
    "yvonne = {\"name\" : \"Yvonne Timm\",\n",
    "           \"assignment\" : [70, 73, 97, 99], \"exam\" : [98.59]}\n",
    "\n",
    "# 4. Khai's Dictionary\n",
    "khai = {\"name\" : \"Ngoc Khai Le\",\n",
    "           \"assignment\" : [100, 83, 100, 90], \"exam\" : [94.76]}\n",
    "\n",
    "students = [seannie, dustin, yvonne, khai]\n",
    "\n",
    "# Function to calculate average\n",
    "def average(scores):\n",
    "    total = sum(scores)\n",
    "    total = float(total)\n",
    "    return total / len(scores)\n",
    "    \n",
    "# Function to calculate total average\n",
    "def calculate_total_avg(students):\n",
    "    assignment = average(students[\"assignment\"])\n",
    "    exam = average(students[\"exam\"])\n",
    "    # return the result based on the criteria\n",
    "    return (0.3 * assignment + 0.7 * exam)\n",
    "\n",
    "# Function to classify students\n",
    "def students_classification(gpa):\n",
    "    if gpa >= 80: return \"A\"\n",
    "    elif gpa >= 70: return \"B\"\n",
    "    elif gpa >= 55: return \"C\"\n",
    "    elif gpa >= 45: return \"D\"\n",
    "    else: return \"E\"\n",
    "\n",
    "for i in students:\n",
    "    print(i[\"name\"])\n",
    "    print(\"GPA of %s is: %.2f\" %(i[\"name\"], calculate_total_avg(i)))\n",
    "    print(\"It is equivalent to %s\" %(students_classification(calculate_total_avg(i))))\n",
    "    print(\"--------------------------------------------------------\")\n",
    "    print()"
   ]
  },
  {
   "cell_type": "markdown",
   "metadata": {},
   "source": [
    "#### Batch 3.3. Odd or even.\n",
    "\n",
    "Write a program that determines if a given number is odd or even."
   ]
  },
  {
   "cell_type": "code",
   "execution_count": 3,
   "metadata": {},
   "outputs": [
    {
     "name": "stdin",
     "output_type": "stream",
     "text": [
      "Enter a random number =  24\n"
     ]
    },
    {
     "name": "stdout",
     "output_type": "stream",
     "text": [
      "The given number is even!\n"
     ]
    }
   ],
   "source": [
    "number = int(input(\"Enter a random number = \"))\n",
    "if number % 2 == 0:\n",
    "    print(\"The given number is even!\")\n",
    "else:\n",
    "    print(\"The given number is odd!\")"
   ]
  },
  {
   "cell_type": "markdown",
   "metadata": {},
   "source": [
    "#### Batch 3.4. Prime numbers.\n",
    "\n",
    "Write a program that determines if a given number is prime."
   ]
  },
  {
   "cell_type": "code",
   "execution_count": 4,
   "metadata": {},
   "outputs": [
    {
     "name": "stdin",
     "output_type": "stream",
     "text": [
      "Enter a number =  25\n"
     ]
    },
    {
     "name": "stdout",
     "output_type": "stream",
     "text": [
      "25 is not a prime number.\n"
     ]
    }
   ],
   "source": [
    "n = int(input(\"Enter a number = \"))\n",
    "if n > 1:\n",
    "    for i in range(2, n // 2):\n",
    "        if (n % i) == 0:\n",
    "            print(n, \"is not a prime number.\")\n",
    "            break\n",
    "    else:\n",
    "        print(n, \"is a prime number.\")  \n",
    "# If the number is <= 1, it is not a prime number.\n",
    "else:\n",
    "    print(n, \"is not a prime number.\")"
   ]
  },
  {
   "cell_type": "markdown",
   "metadata": {},
   "source": [
    "#### Batch 3.5. Multiplication table. \n",
    "\n",
    "Write a program that generates a multiplication table for thenumbers 1 to 10."
   ]
  },
  {
   "cell_type": "code",
   "execution_count": 5,
   "metadata": {},
   "outputs": [
    {
     "name": "stdin",
     "output_type": "stream",
     "text": [
      "Enter the number that you want to have the multiplication table:  6\n"
     ]
    },
    {
     "name": "stdout",
     "output_type": "stream",
     "text": [
      "The Multiplication Table of: 6\n",
      "6 x 1 = 6\n",
      "6 x 2 = 12\n",
      "6 x 3 = 18\n",
      "6 x 4 = 24\n",
      "6 x 5 = 30\n",
      "6 x 6 = 36\n",
      "6 x 7 = 42\n",
      "6 x 8 = 48\n",
      "6 x 9 = 54\n",
      "6 x 10 = 60\n"
     ]
    }
   ],
   "source": [
    "n = int(input(\"Enter the number that you want to have the multiplication table: \"))\n",
    "print(\"The Multiplication Table of:\", n)\n",
    "for i in range(1, 11):\n",
    "    print(n, 'x', i, '=', n * i)"
   ]
  },
  {
   "cell_type": "markdown",
   "metadata": {},
   "source": [
    "#### Batch 3.6. Reverse order of words in a sentence.\n",
    "\n",
    "Write a program that takes a sentence as inputand returns the sentence with the words in reverse order.\n",
    "\n"
   ]
  },
  {
   "cell_type": "code",
   "execution_count": 7,
   "metadata": {},
   "outputs": [
    {
     "name": "stdin",
     "output_type": "stream",
     "text": [
      "Enter a sentence:  Seannie loves Dustin\n"
     ]
    },
    {
     "name": "stdout",
     "output_type": "stream",
     "text": [
      "The new sentence is Dustin loves Seannie\n"
     ]
    }
   ],
   "source": [
    "string = str(input(\"Enter a sentence: \"))\n",
    "split_str = string.split(' ') # Split the string by spaces\n",
    "reversed_str = reversed(split_str) # Reverse every single word\n",
    "final_str = ' '.join(reversed_str) # Join the reversed words\n",
    "print(\"The new sentence is\", final_str)"
   ]
  },
  {
   "cell_type": "markdown",
   "metadata": {},
   "source": [
    "#### Batch 3.7. Reverse order of elements in a list. \n",
    "\n",
    "Write a program that takes a list of numbers as inputand returns the list with the elements in reverse order."
   ]
  },
  {
   "cell_type": "code",
   "execution_count": 8,
   "metadata": {},
   "outputs": [
    {
     "name": "stdin",
     "output_type": "stream",
     "text": [
      "Enter the number of elements in the list:  4\n",
      "Enter elements 1:  23\n",
      "Enter elements 2:  44\n",
      "Enter elements 3:  21\n",
      "Enter elements 4:  35\n"
     ]
    },
    {
     "name": "stdout",
     "output_type": "stream",
     "text": [
      "List = [23, 44, 21, 35]\n",
      "New List = [35, 21, 44, 23]\n"
     ]
    }
   ],
   "source": [
    "list = []\n",
    "number_of_elements = int(input(\"Enter the number of elements in the list: \"))\n",
    "for i in range(number_of_elements):\n",
    "    element = int(input(\"Enter elements {}: \".format(i + 1)))\n",
    "    list.append(element) # Add elements into the list\n",
    "print(\"List =\", list)\n",
    "reversed_list = list[::-1] # Reverse the elements in the list\n",
    "print(\"New List =\", reversed_list)"
   ]
  },
  {
   "cell_type": "markdown",
   "metadata": {},
   "source": [
    "#### Batch 3.8. Word count. \n",
    "\n",
    "Write a program that takes a string as input and returns the number of words in the string."
   ]
  },
  {
   "cell_type": "code",
   "execution_count": 10,
   "metadata": {},
   "outputs": [
    {
     "name": "stdin",
     "output_type": "stream",
     "text": [
      "Enter a string:  The weather is nice today!\n"
     ]
    },
    {
     "name": "stdout",
     "output_type": "stream",
     "text": [
      "The number of words in the string: 5\n"
     ]
    }
   ],
   "source": [
    "OUT = 0\n",
    "IN = 1\n",
    "def wordcount(string):\n",
    "    count = 0\n",
    "    state = OUT\n",
    "    for i in range(len(string)):\n",
    "        if (string[i] == ' ' or string[i] == '\\n'\n",
    "            or string[i] == '\\t'):\n",
    "            state = OUT\n",
    "        elif state == OUT:\n",
    "            state = IN\n",
    "            count += 1\n",
    "    return count\n",
    "\n",
    "string = str(input(\"Enter a string: \"))\n",
    "print(\"The number of words in the string: \" + str(wordcount(string)))"
   ]
  },
  {
   "cell_type": "markdown",
   "metadata": {},
   "source": [
    "#### Batch 3.9. Vowel count. \n",
    "\n",
    "Write a program that takes a string as input and returns the number ofvowels (a, e, i, o, u) in the string."
   ]
  },
  {
   "cell_type": "code",
   "execution_count": 11,
   "metadata": {},
   "outputs": [
    {
     "name": "stdin",
     "output_type": "stream",
     "text": [
      "Enter a string:  Amazing Good Job!\n"
     ]
    },
    {
     "name": "stdout",
     "output_type": "stream",
     "text": [
      "The number of vowels in the string is 5\n"
     ]
    }
   ],
   "source": [
    "def vowelcount(string):\n",
    "    count = 0\n",
    "    # Loop through the string to count vowels\n",
    "    for i in range(len(string)):\n",
    "        if (string[i] == 'a' or string[i] == 'e' or\n",
    "            string[i] == 'i' or string[i] == 'o' or\n",
    "            string[i] == 'u'):\n",
    "            count += 1\n",
    "    return count\n",
    "\n",
    "string = str(input(\"Enter a string: \"))\n",
    "print(\"The number of vowels in the string is \" + str(vowelcount(string)))"
   ]
  },
  {
   "cell_type": "markdown",
   "metadata": {},
   "source": [
    "#### Batch 3.10. Capitalize first letter of each word. \n",
    "\n",
    "Write a program that takes a sentence as input andreturns the sentence with the first letter of each word capitalized."
   ]
  },
  {
   "cell_type": "code",
   "execution_count": 12,
   "metadata": {},
   "outputs": [
    {
     "name": "stdin",
     "output_type": "stream",
     "text": [
      "Enter a sentence:  Welcome to my World!\n"
     ]
    },
    {
     "name": "stdout",
     "output_type": "stream",
     "text": [
      "The new sentence is: Welcome To My World!\n"
     ]
    }
   ],
   "source": [
    "string = str(input(\"Enter a sentence: \"))\n",
    "# title() converts the first character of each word to upper case\n",
    "cap_string = string.title() \n",
    "print(\"The new sentence is:\", cap_string)"
   ]
  },
  {
   "cell_type": "code",
   "execution_count": null,
   "metadata": {},
   "outputs": [],
   "source": []
  }
 ],
 "metadata": {
  "kernelspec": {
   "display_name": "Python 3 (ipykernel)",
   "language": "python",
   "name": "python3"
  },
  "language_info": {
   "codemirror_mode": {
    "name": "ipython",
    "version": 3
   },
   "file_extension": ".py",
   "mimetype": "text/x-python",
   "name": "python",
   "nbconvert_exporter": "python",
   "pygments_lexer": "ipython3",
   "version": "3.11.2"
  }
 },
 "nbformat": 4,
 "nbformat_minor": 4
}
