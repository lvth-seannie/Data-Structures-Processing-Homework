{
 "cells": [
  {
   "cell_type": "markdown",
   "metadata": {},
   "source": [
    "Vo Thien Hai Le - 30006085 - 📩 v.le@constructor.university"
   ]
  },
  {
   "cell_type": "code",
   "execution_count": 7,
   "metadata": {
    "tags": []
   },
   "outputs": [],
   "source": [
    "from bs4 import BeautifulSoup\n",
    "import pandas\n",
    "import requests"
   ]
  },
  {
   "cell_type": "markdown",
   "metadata": {},
   "source": [
    "1. Extract the Table of Contents (sections and sub-sections), either by parsing the generated HTML or the original Markdown."
   ]
  },
  {
   "cell_type": "code",
   "execution_count": 8,
   "metadata": {},
   "outputs": [
    {
     "name": "stdout",
     "output_type": "stream",
     "text": [
      "TABLE OF CONTENTS\n",
      "Web Scraping\n",
      "     Introduction\n",
      "         Goals\n",
      "         Types of websites\n",
      "         Legal and ethical considerations\n",
      "     Tutorials and Exercises\n",
      "     HTML\n",
      "     robots.txt\n",
      "         GitHub’ robots.txt\n",
      "Python tools and examples\n",
      "     BeautifulSoup4\n",
      "     Selenium\n",
      "     Scrapy\n",
      "     Further resources\n"
     ]
    }
   ],
   "source": [
    "with open(\"web_scraping.html\") as f:\n",
    "    soup = BeautifulSoup(f)\n",
    "print(\"Table of contents\".upper())\n",
    "for tag in soup.body.children:\n",
    "    if tag.name == 'h1':\n",
    "        for item in tag.contents:\n",
    "            print(item, end=\"\")\n",
    "        print()\n",
    "    if tag.name == 'h2':\n",
    "        if tag.contents[0].name == 'code': tag.contents[0] = tag.contents[0].contents[0]\n",
    "        print(\"     \", end =\"\")\n",
    "        for item in tag.contents:\n",
    "            print(item, end=\"\")\n",
    "        print()\n",
    "    if tag.name == 'h3':\n",
    "        if len(tag.contents) > 1 and tag.contents[1].name == 'code': tag.contents[1] = tag.contents[1].contents[0]    \n",
    "        print(\"         \", end =\"\")\n",
    "        for item in tag.contents:\n",
    "            print(item, end=\"\")\n",
    "        print()"
   ]
  },
  {
   "cell_type": "markdown",
   "metadata": {},
   "source": [
    "2. Recover the tables (Students, Courses, and Enrollments) and the (SQL) code blocks from Week-05 example_create.html file."
   ]
  },
  {
   "cell_type": "code",
   "execution_count": 20,
   "metadata": {},
   "outputs": [
    {
     "name": "stdout",
     "output_type": "stream",
     "text": [
      "Students:\n",
      "   student_id        name  age  gender\n",
      "0           1    John Doe   20    Male\n",
      "1           2  Jane Smith   22  Female\n",
      "2           3   Bob Green   21    Male\n",
      "3           4  Lisa Brown   19  Female\n",
      "4           5     Tom Lee   23    Male\n",
      "Courses:\n",
      "   course_id         name   instructor\n",
      "0          1  English 101    Mr. Smith\n",
      "1          2     Math 101  Ms. Johnson\n",
      "2          3  Science 101    Dr. Green\n",
      "3          4  History 101    Ms. Brown\n",
      "Enrollments:\n",
      "    enrollment_id  student_id  course_id grade\n",
      "0               1           1          1     A\n",
      "1               2           1          2     B\n",
      "2               3           1          3     A\n",
      "3               4           2          1     B\n",
      "4               5           2          2     A\n",
      "5               6           2          4     C\n",
      "6               7           3          2     A\n",
      "7               8           3          3     A\n",
      "8               9           4          1     C\n",
      "9              10           4          3     B\n",
      "10             11           5          2     A\n",
      "11             12           5          4     D\n",
      "'example.db'\n",
      "'''DROP TABLE IF EXISTS students'''\n",
      "'''CREATE TABLE students\n",
      "             (student_id INTEGER PRIMARY KEY,\n",
      "              name TEXT,\n",
      "              age INTEGER,\n",
      "              gender TEXT)'''\n",
      "'''DROP TABLE IF EXISTS courses'''\n",
      "'''CREATE TABLE courses\n",
      "             (course_id INTEGER PRIMARY KEY,\n",
      "              name TEXT,\n",
      "              instructor TEXT)'''\n",
      "'''DROP TABLE IF EXISTS enrollments'''\n",
      "'''CREATE TABLE enrollments\n",
      "             (enrollment_id INTEGER PRIMARY KEY,\n",
      "              student_id INTEGER,\n",
      "              course_id INTEGER,\n",
      "              grade TEXT,\n",
      "              FOREIGN KEY(student_id) REFERENCES students(student_id),\n",
      "              FOREIGN KEY(course_id) REFERENCES courses(course_id))'''\n"
     ]
    }
   ],
   "source": [
    "with open(\"Example_Create.html\") as f:\n",
    "    soup = BeautifulSoup(f, \"html.parser\")\n",
    "content = soup.body.contents[1].contents[1].contents[3].contents[1]\n",
    "table_header = []\n",
    "table = soup.find_all('table')\n",
    "for tag in content.children:\n",
    "    if tag.name == \"ul\": table_header.append(tag)\n",
    "table_header = table_header[-3:]\n",
    "for i in range(3):\n",
    "    print(table_header[i].contents[1].text)\n",
    "    df = pandas.read_html(str(table[i]))\n",
    "    df = pandas.concat(df)\n",
    "    print(df)\n",
    "span = soup.find_all('span', {'class': 's1'})\n",
    "for code in span:\n",
    "    print(code.text) "
   ]
  },
  {
   "cell_type": "markdown",
   "metadata": {},
   "source": [
    "3. The *List of PEPs"
   ]
  },
  {
   "cell_type": "code",
   "execution_count": 17,
   "metadata": {},
   "outputs": [],
   "source": [
    "res = requests.get(\"https://peps.python.org/\")\n",
    "if res.status_code == 200:\n",
    "    res = res.text\n",
    "else:\n",
    "    print(\"Error\")\n",
    "soup = BeautifulSoup(res, 'html.parser')"
   ]
  },
  {
   "cell_type": "code",
   "execution_count": 18,
   "metadata": {},
   "outputs": [],
   "source": [
    "num_index = soup.find('section', id='numerical-index')\n",
    "rsved_pep_num = soup.find('section', id='reserved-pep-numbers')\n",
    "pep_types_key = soup.find('section', id='pep-types-key')\n",
    "pep_status_key = soup.find('section', id='pep-status-key')\n",
    "authors_owners = soup.find('section', id='authors-owners')\n",
    "datas = [num_index, rsved_pep_num, pep_types_key, pep_status_key, authors_owners]"
   ]
  },
  {
   "cell_type": "code",
   "execution_count": 22,
   "metadata": {},
   "outputs": [
    {
     "name": "stdout",
     "output_type": "stream",
     "text": [
      "NUMERICAL INDEX\n",
      "    Unnamed: 0   PEP                                   Title  \\\n",
      "0           PA     1              PEP Purpose and Guidelines   \n",
      "1           PA     2        Procedure for Adding New Modules   \n",
      "2           PW     3     Guidelines for Handling Bug Reports   \n",
      "3           PA     4         Deprecation of Standard Modules   \n",
      "4           PA     5       Guidelines for Language Evolution   \n",
      "..         ...   ...                                     ...   \n",
      "605         IF  8100  January 2019 Steering Council election   \n",
      "606         IF  8101     2020 Term Steering Council election   \n",
      "607         IF  8102     2021 Term Steering Council election   \n",
      "608         IF  8103     2022 Term Steering Council election   \n",
      "609         IA  8104     2023 Term Steering Council election   \n",
      "\n",
      "                              Authors  \n",
      "0    Warsaw, Hylton, Goodger, Coghlan  \n",
      "1                     Cannon, Faassen  \n",
      "2                              Hylton  \n",
      "3                   Cannon, von Löwis  \n",
      "4                             Prescod  \n",
      "..                                ...  \n",
      "605                     Smith, Durbin  \n",
      "606                 Jodlowska, Durbin  \n",
      "607          Jodlowska, Durbin, Carey  \n",
      "608          Jodlowska, Durbin, Carey  \n",
      "609                            Durbin  \n",
      "\n",
      "[610 rows x 4 columns]\n",
      "RESERVED PEP NUMBERS\n",
      "   Unnamed: 0  PEP     Title Authors\n",
      "0         NaN  801  RESERVED  Warsaw\n",
      "PEP TYPES KEY\n",
      "\n",
      "\n",
      "I — Informational: Non-normative PEP containing background, guidelines or other information relevant to the Python ecosystem\n",
      "\n",
      "\n",
      "P — Process: Normative PEP describing or proposing a change to a Python community process, workflow or governance\n",
      "\n",
      "\n",
      "S — Standards Track: Normative PEP with a new feature for Python, implementation change for CPython or interoperability standard for the ecosystem\n",
      "\n",
      "\n",
      "PEP STATUS KEY\n",
      "\n",
      "\n",
      "A — Accepted: Normative proposal accepted for implementation\n",
      "\n",
      "\n",
      "A — Active: Currently valid informational guidance, or an in-use process\n",
      "\n",
      "\n",
      "D — Deferred: Inactive draft that may be taken up again at a later time\n",
      "\n",
      "\n",
      "<No letter> — Draft: Proposal under active discussion and revision\n",
      "\n",
      "\n",
      "F — Final: Accepted and implementation complete, or no longer active\n",
      "\n",
      "\n",
      "P — Provisional: Provisionally accepted but additional feedback needed\n",
      "\n",
      "\n",
      "R — Rejected: Formally declined and will not be accepted\n",
      "\n",
      "\n",
      "S — Superseded: Replaced by another succeeding PEP\n",
      "\n",
      "\n",
      "W — Withdrawn: Removed from consideration by sponsor or authors\n",
      "\n",
      "\n",
      "AUTHORS/OWNERS\n",
      "                        Name                     Email Address\n",
      "0                       Aahz           aahz at pythoncraft.com\n",
      "1    Aasland, Erlend Egeberg  erlend.aasland at protonmail.com\n",
      "2         Ahlstrom, James C.                jim at interet.com\n",
      "3               Althoff, Jim           james_althoff at i2.com\n",
      "4               Altis, Kevin         altis at semi-retired.com\n",
      "..                       ...                               ...\n",
      "283         Zevenhoven, Koos              k7hoven at gmail.com\n",
      "284              Zhu, Huaiyu     hzhu at users.sourceforge.net\n",
      "285             Zhu, Shannon                    szhu at fb.com\n",
      "286             Ziadé, Tarek                tarek at ziade.org\n",
      "287          Zijlstra, Jelle       jelle.zijlstra at gmail.com\n",
      "\n",
      "[288 rows x 2 columns]\n"
     ]
    }
   ],
   "source": [
    "for data in datas:\n",
    "    print(data.find('h2').text.upper())\n",
    "    if data.find('table'):\n",
    "        df = pandas.read_html(str(data.find('table')))\n",
    "        df = pandas.concat(df)\n",
    "        print(df)\n",
    "    else:\n",
    "        ul = data.find('ul')\n",
    "        for li in ul:\n",
    "            print(li.text)"
   ]
  },
  {
   "cell_type": "code",
   "execution_count": null,
   "metadata": {},
   "outputs": [],
   "source": []
  },
  {
   "cell_type": "code",
   "execution_count": null,
   "metadata": {},
   "outputs": [],
   "source": []
  }
 ],
 "metadata": {
  "kernelspec": {
   "display_name": "Python 3 (ipykernel)",
   "language": "python",
   "name": "python3"
  },
  "language_info": {
   "codemirror_mode": {
    "name": "ipython",
    "version": 3
   },
   "file_extension": ".py",
   "mimetype": "text/x-python",
   "name": "python",
   "nbconvert_exporter": "python",
   "pygments_lexer": "ipython3",
   "version": "3.9.13"
  }
 },
 "nbformat": 4,
 "nbformat_minor": 4
}
