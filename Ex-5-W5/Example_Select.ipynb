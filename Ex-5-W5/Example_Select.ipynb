{
 "cells": [
  {
   "cell_type": "markdown",
   "metadata": {},
   "source": [
    "# SQL Select examples/exercise\n",
    "\n",
    "Example dataset with three related tables:\n",
    "\n",
    "* Students table: provides students personal/profile information\n",
    "  - student_id (INTEGER, PRIMARY KEY): unique (internal) ID number\n",
    "  - name (TEXT): name of the student\n",
    "  - age (INTEGER): age of student\n",
    "  - gender (TEXT): gender of student\n",
    "\n",
    "* Courses table: contains information about the courses\n",
    "  - course_id (INTEGER, PRIMARY KEY): unique (internal) course ID number\n",
    "  - name (TEXT): Name of the course\n",
    "  - instructor (TEXT): name of the instructor\n",
    "\n",
    "* Enrollments table: provides information about which student is participating in which course\n",
    "  - enrollment_id (INTEGER, PRIMARY KEY): unique key to the enrollment table\n",
    "  - student_id (INTEGER, FOREIGN KEY): student ID\n",
    "  - course_id (INTEGER, FOREIGN KEY): course ID\n",
    "  - grade (TEXT): student's grade in the respective course\n",
    "\n",
    "Some sample data to populate these tables:\n",
    "\n",
    "* Students:\n",
    "\n",
    "|student_id|name|age|gender|\n",
    "|---|---|---|---|\n",
    "|1|John Doe|20|Male|\n",
    "|2|Jane Smith|22|Female|\n",
    "|3|Bob Green|21|Male|\n",
    "|4|Lisa Brown|19|Female|\n",
    "|5|Tom Lee|23|Male|\n",
    "\n",
    "* Courses:\n",
    "\n",
    "|course_id|name|instructor|\n",
    "|---|---|---|\n",
    "|1|English 101|Mr. Smith|\n",
    "|2|Math 101|Ms. Johnson|\n",
    "|3|Science 101|Dr. Green|\n",
    "|4|History 101|Ms. Brown|\n",
    "\n",
    "* Enrollments:\n",
    "\n",
    "|enrollment_id|student_id|course_id|grade\n",
    "|---|---|---|---\n",
    "|1|1|1|A\n",
    "|2|1|2|B\n",
    "|3|1|3|A\n",
    "|4|2|1|B\n",
    "|5|2|2|A\n",
    "|6|2|4|C\n",
    "|7|3|2|A\n",
    "|8|3|3|A\n",
    "|9|4|1|C\n",
    "|10|4|3|B\n",
    "|11|5|2|A\n",
    "|12|5|4|D\n"
   ]
  },
  {
   "cell_type": "markdown",
   "metadata": {},
   "source": [
    "## Access the database\n",
    "\n",
    "The database tables represented above are provided in the SQLite file `example.db`.\n",
    "We can read/query data from such database in many different ways: with any software supporting connecting to a SQLite database.\n",
    "\n",
    "Python provides support for connecting to a SQLite database in its standard library, throught the [`sqlite3`](https://docs.python.org/3/library/sqlite3.html) module.\n",
    "\n",
    "We can use Python's `sqlite3` module alone to do so (example below), but also make use of Pandas. The advantage of using Pandas to interact with the database is that the result arrives already as a Pandas Dataframe."
   ]
  },
  {
   "cell_type": "code",
   "execution_count": 4,
   "metadata": {},
   "outputs": [],
   "source": [
    "# The first step is to CONNECT to the database\n",
    "#\n",
    "import sqlite3\n",
    "\n",
    "# Create a connection\n",
    "conn = sqlite3.connect('example.db')"
   ]
  },
  {
   "cell_type": "code",
   "execution_count": 5,
   "metadata": {},
   "outputs": [
    {
     "data": {
      "text/plain": [
       "[(1, 'John Doe', 20, 'Male'),\n",
       " (2, 'Jane Smith', 22, 'Female'),\n",
       " (3, 'Bob Green', 21, 'Male'),\n",
       " (4, 'Lisa Brown', 19, 'Female'),\n",
       " (5, 'Tom Lee', 23, 'Male')]"
      ]
     },
     "execution_count": 5,
     "metadata": {},
     "output_type": "execute_result"
    }
   ],
   "source": [
    "# Using SQLite only, we can simply execute the query\n",
    "\n",
    "c = conn.execute('''SELECT * FROM students''')\n",
    "c.fetchall()"
   ]
  },
  {
   "cell_type": "code",
   "execution_count": 6,
   "metadata": {},
   "outputs": [
    {
     "data": {
      "text/html": [
       "<div>\n",
       "<style scoped>\n",
       "    .dataframe tbody tr th:only-of-type {\n",
       "        vertical-align: middle;\n",
       "    }\n",
       "\n",
       "    .dataframe tbody tr th {\n",
       "        vertical-align: top;\n",
       "    }\n",
       "\n",
       "    .dataframe thead th {\n",
       "        text-align: right;\n",
       "    }\n",
       "</style>\n",
       "<table border=\"1\" class=\"dataframe\">\n",
       "  <thead>\n",
       "    <tr style=\"text-align: right;\">\n",
       "      <th></th>\n",
       "      <th>student_id</th>\n",
       "      <th>name</th>\n",
       "      <th>age</th>\n",
       "      <th>gender</th>\n",
       "    </tr>\n",
       "  </thead>\n",
       "  <tbody>\n",
       "    <tr>\n",
       "      <th>0</th>\n",
       "      <td>1</td>\n",
       "      <td>John Doe</td>\n",
       "      <td>20</td>\n",
       "      <td>Male</td>\n",
       "    </tr>\n",
       "    <tr>\n",
       "      <th>1</th>\n",
       "      <td>2</td>\n",
       "      <td>Jane Smith</td>\n",
       "      <td>22</td>\n",
       "      <td>Female</td>\n",
       "    </tr>\n",
       "    <tr>\n",
       "      <th>2</th>\n",
       "      <td>3</td>\n",
       "      <td>Bob Green</td>\n",
       "      <td>21</td>\n",
       "      <td>Male</td>\n",
       "    </tr>\n",
       "    <tr>\n",
       "      <th>3</th>\n",
       "      <td>4</td>\n",
       "      <td>Lisa Brown</td>\n",
       "      <td>19</td>\n",
       "      <td>Female</td>\n",
       "    </tr>\n",
       "    <tr>\n",
       "      <th>4</th>\n",
       "      <td>5</td>\n",
       "      <td>Tom Lee</td>\n",
       "      <td>23</td>\n",
       "      <td>Male</td>\n",
       "    </tr>\n",
       "  </tbody>\n",
       "</table>\n",
       "</div>"
      ],
      "text/plain": [
       "   student_id        name  age  gender\n",
       "0           1    John Doe   20    Male\n",
       "1           2  Jane Smith   22  Female\n",
       "2           3   Bob Green   21    Male\n",
       "3           4  Lisa Brown   19  Female\n",
       "4           5     Tom Lee   23    Male"
      ]
     },
     "execution_count": 6,
     "metadata": {},
     "output_type": "execute_result"
    }
   ],
   "source": [
    "# With Pandas, besides the SQL statement, you pass the CONNECTION objection\n",
    "#\n",
    "import pandas\n",
    "\n",
    "pandas.read_sql_query('''SELECT * FROM students''', conn)"
   ]
  },
  {
   "cell_type": "code",
   "execution_count": 9,
   "metadata": {},
   "outputs": [
    {
     "data": {
      "text/html": [
       "<div>\n",
       "<style scoped>\n",
       "    .dataframe tbody tr th:only-of-type {\n",
       "        vertical-align: middle;\n",
       "    }\n",
       "\n",
       "    .dataframe tbody tr th {\n",
       "        vertical-align: top;\n",
       "    }\n",
       "\n",
       "    .dataframe thead th {\n",
       "        text-align: right;\n",
       "    }\n",
       "</style>\n",
       "<table border=\"1\" class=\"dataframe\">\n",
       "  <thead>\n",
       "    <tr style=\"text-align: right;\">\n",
       "      <th></th>\n",
       "      <th>COUNT(*)</th>\n",
       "    </tr>\n",
       "  </thead>\n",
       "  <tbody>\n",
       "    <tr>\n",
       "      <th>0</th>\n",
       "      <td>4</td>\n",
       "    </tr>\n",
       "  </tbody>\n",
       "</table>\n",
       "</div>"
      ],
      "text/plain": [
       "   COUNT(*)\n",
       "0         4"
      ]
     },
     "execution_count": 9,
     "metadata": {},
     "output_type": "execute_result"
    }
   ],
   "source": [
    "# Let's see the counts of `courses` and `enrollments` tables\n",
    "#\n",
    "pandas.read_sql_query('''SELECT COUNT(*) FROM courses''', conn)"
   ]
  },
  {
   "cell_type": "code",
   "execution_count": 10,
   "metadata": {},
   "outputs": [
    {
     "data": {
      "text/plain": [
       "[(12,)]"
      ]
     },
     "execution_count": 10,
     "metadata": {},
     "output_type": "execute_result"
    }
   ],
   "source": [
    "conn.execute('''SELECT COUNT(*) FROM enrollments''').fetchall()"
   ]
  },
  {
   "cell_type": "markdown",
   "metadata": {},
   "source": [
    "## Examples\n",
    "\n",
    "Execute the following examples and check their answers. After that, answer the questions below."
   ]
  },
  {
   "cell_type": "markdown",
   "metadata": {},
   "source": [
    "Select a specific student by ID:\n",
    "```sql\n",
    "SELECT * FROM students WHERE student_id = 1;\n",
    "```\n",
    "A table of the student with student_id = 1, including their name, age, and gender.\n",
    "\n",
    "Select a specific course by ID:\n",
    "```sql\n",
    "SELECT * FROM courses WHERE course_id = 2;\n",
    "```\n",
    "\n",
    "Select all enrollments for a specific student:\n",
    "```sql\n",
    "SELECT * FROM enrollments WHERE student_id = 3;\n",
    "```\n",
    "\n",
    "Select all enrollments for a specific course:\n",
    "```sql\n",
    "SELECT * FROM enrollments WHERE course_id = 1;\n",
    "```\n",
    "\n",
    "Select the average grade for a specific course:\n",
    "```sql\n",
    "SELECT AVG(grade) FROM enrollments WHERE course_id = 1;\n",
    "```\n",
    "\n",
    "Select the number of students enrolled in a specific course:\n",
    "```sql\n",
    "SELECT COUNT(*) FROM enrollments WHERE course_id = 1;\n",
    "```\n",
    "\n",
    "Select the names of all male students:\n",
    "```sql\n",
    "SELECT name \n",
    "FROM students \n",
    "WHERE gender = 'Male';\n",
    "```\n",
    "\n",
    "Select the names and instructors of all courses taught by female instructors:\n",
    "```sql\n",
    "SELECT name, instructor \n",
    "FROM courses \n",
    "WHERE instructor IN \n",
    "    (SELECT DISTINCT instructor FROM courses WHERE gender = 'Female');\n",
    "```\n",
    "\n",
    "Select the average grade for each course:\n",
    "```sql\n",
    "SELECT course_id, AVG(grade) \n",
    "FROM enrollments \n",
    "GROUP BY course_id;\n",
    "```\n",
    "\n",
    "Select the names and average age of students grouped by gender, only for groups with more than one student:\n",
    "```sql\n",
    "SELECT gender, AVG(age) \n",
    "FROM students \n",
    "GROUP BY gender \n",
    "HAVING COUNT(*) > 1;\n",
    "```\n",
    "\n",
    "Select the names and ages of students in descending order of age:\n",
    "```sql\n",
    "SELECT name, age \n",
    "FROM students ORDER BY age DESC;\n",
    "```\n",
    "\n",
    "Select the names of students and the courses they are enrolled in:\n",
    "```sql\n",
    "SELECT students.name, courses.name \n",
    "FROM students \n",
    "JOIN enrollments ON students.student_id = enrollments.student_id \n",
    "JOIN courses ON enrollments.course_id = courses.course_id;\n",
    "```\n"
   ]
  },
  {
   "cell_type": "markdown",
   "metadata": {},
   "source": [
    "## Exercises\n",
    "\n",
    "Answer the following questions using SQL SELECT code similar to the ones above."
   ]
  },
  {
   "cell_type": "markdown",
   "metadata": {},
   "source": [
    "1. Write an SQL query to find the names and ages of all female students.\n",
    "2. Write an SQL query to find the names of all courses taught by female instructors.\n",
    "3. Write an SQL query to find the name and grade of the student with student_id = 2.\n",
    "4. Write an SQL query to find the average age of male students.\n",
    "5. Write an SQL query to find the names and ages of the three youngest students.\n",
    "6. Write an SQL query to find the names of students who are enrolled in more than two courses.\n",
    "7. Write an SQL query to find the names of courses and their average grade, sorted in descending order of average grade.\n",
    "8. Write an SQL query to find the names of students and the names of courses they are enrolled in, sorted by student name.\n",
    "9. Write an SQL query to find the number of male and female students.\n",
    "10. Write an SQL query to find the names of students who are enrolled in both English 101 and Math 101 courses."
   ]
  }
 ],
 "metadata": {
  "kernelspec": {
   "display_name": "Python 3 (ipykernel)",
   "language": "python",
   "name": "python3"
  },
  "language_info": {
   "codemirror_mode": {
    "name": "ipython",
    "version": 3
   },
   "file_extension": ".py",
   "mimetype": "text/x-python",
   "name": "python",
   "nbconvert_exporter": "python",
   "pygments_lexer": "ipython3",
   "version": "3.9.13"
  },
  "vscode": {
   "interpreter": {
    "hash": "31f2aee4e71d21fbe5cf8b01ff0e069b9275f58929596ceb00d14d90e3e16cd6"
   }
  }
 },
 "nbformat": 4,
 "nbformat_minor": 4
}
